{
 "cells": [
  {
   "cell_type": "code",
   "execution_count": 1,
   "id": "95d2a978",
   "metadata": {},
   "outputs": [],
   "source": [
    "import cv2\n",
    "from CNN3 import DesNet\n",
    "import torch\n",
    "import numpy as np\n",
    "import scipy\n",
    "from scipy import optimize\n",
    "import matplotlib.pyplot as plt"
   ]
  },
  {
   "cell_type": "markdown",
   "id": "05ce85cf",
   "metadata": {},
   "source": [
    "# Helper Functions"
   ]
  },
  {
   "cell_type": "code",
   "execution_count": 2,
   "id": "50c5e2d5",
   "metadata": {},
   "outputs": [],
   "source": [
    "def getPatches(kps, img, size=32, num=200):\n",
    "    res = torch.zeros(num, 1, size, size)\n",
    "    if type(img) is np.ndarray:\n",
    "        img = torch.from_numpy(img)\n",
    "    h, w = img.shape      # note: for image, the x direction is the verticle, y-direction is the horizontal...\n",
    "    for i in range(num):\n",
    "        cx, cy = kps[i]\n",
    "        cx, cy = int(cx), int(cy)\n",
    "        dd = int(size/2)\n",
    "        xmin, xmax = max(0, cx - dd), min(w, cx + dd ) \n",
    "        ymin, ymax = max(0, cy - dd), min(h, cy + dd ) \n",
    "        xmin_res, xmax_res = dd - min(dd,cx), dd + min(dd, w - cx)\n",
    "        ymin_res, ymax_res = dd - min(dd,cy), dd + min(dd, h - cy)\n",
    "        cropped_img = img[ymin: ymax, xmin: xmax]\n",
    "        ch, cw = cropped_img.shape\n",
    "        res[i, 0, ymin_res: ymin_res+ch, xmin_res: xmin_res+cw] =  cropped_img\n",
    "    return res\n",
    "\n",
    "def similarity(q_feats, r_feats):\n",
    "    s_kl = np.zeros((len(q_feats), len(r_feats)))\n",
    "    s_kl_val = 0\n",
    "    for i, q_f in enumerate(q_feats):\n",
    "        for j, r_f in enumerate(r_feats):\n",
    "            simi = 0.5 * (1 + ((np.dot(q_f.T, r_f))/(np.linalg.norm(q_f, 2) * np.linalg.norm(r_f, 2))))\n",
    "            s_kl[i][j] = simi\n",
    "            s_kl_val += simi\n",
    "    return s_kl, s_kl_val\n",
    "\n",
    "def get_top_k(s_img_, k = 3):\n",
    "    top_k = np.argsort(s_img_)[-k:]\n",
    "    return top_k\n",
    "\n",
    "def eval_(q_n, gt_dict, top_k):\n",
    "    num_correct = 0\n",
    "    for ids in top_k:\n",
    "        if ids+1 in gt_dict[\"q{}\".format(q_n + 1)]:\n",
    "            num_correct += 1\n",
    "    prec = num_correct/len(top_k)\n",
    "    recall = num_correct/4\n",
    "    return prec, recall"
   ]
  },
  {
   "cell_type": "markdown",
   "id": "0a25dc96",
   "metadata": {},
   "source": [
    "# Loading given model"
   ]
  },
  {
   "cell_type": "code",
   "execution_count": 3,
   "id": "06faa2b3",
   "metadata": {},
   "outputs": [
    {
     "data": {
      "text/plain": [
       "DesNet(\n",
       "  (features): Sequential(\n",
       "    (0): Conv2d(1, 32, kernel_size=(3, 3), stride=(1, 1), padding=(1, 1), bias=False)\n",
       "    (1): BatchNorm2d(32, eps=1e-05, momentum=0.1, affine=False, track_running_stats=True)\n",
       "    (2): ReLU()\n",
       "    (3): Conv2d(32, 32, kernel_size=(3, 3), stride=(1, 1), padding=(1, 1), bias=False)\n",
       "    (4): BatchNorm2d(32, eps=1e-05, momentum=0.1, affine=False, track_running_stats=True)\n",
       "    (5): ReLU()\n",
       "    (6): Conv2d(32, 64, kernel_size=(3, 3), stride=(2, 2), padding=(1, 1), bias=False)\n",
       "    (7): BatchNorm2d(64, eps=1e-05, momentum=0.1, affine=False, track_running_stats=True)\n",
       "    (8): ReLU()\n",
       "    (9): Conv2d(64, 64, kernel_size=(3, 3), stride=(1, 1), padding=(1, 1), bias=False)\n",
       "    (10): BatchNorm2d(64, eps=1e-05, momentum=0.1, affine=False, track_running_stats=True)\n",
       "    (11): ReLU()\n",
       "    (12): Conv2d(64, 128, kernel_size=(3, 3), stride=(2, 2), padding=(1, 1), bias=False)\n",
       "    (13): BatchNorm2d(128, eps=1e-05, momentum=0.1, affine=False, track_running_stats=True)\n",
       "    (14): ReLU()\n",
       "    (15): Conv2d(128, 128, kernel_size=(3, 3), stride=(1, 1), padding=(1, 1), bias=False)\n",
       "    (16): BatchNorm2d(128, eps=1e-05, momentum=0.1, affine=False, track_running_stats=True)\n",
       "    (17): ReLU()\n",
       "    (18): Dropout(p=0.3, inplace=False)\n",
       "    (19): Conv2d(128, 128, kernel_size=(8, 8), stride=(1, 1), bias=False)\n",
       "    (20): BatchNorm2d(128, eps=1e-05, momentum=0.1, affine=False, track_running_stats=True)\n",
       "  )\n",
       ")"
      ]
     },
     "execution_count": 3,
     "metadata": {},
     "output_type": "execute_result"
    }
   ],
   "source": [
    "model = DesNet() # Change to your model for the latter part of assignment\n",
    "model.load_state_dict(torch.load('checkpoint.pth')[\"state_dict\"])\n",
    "model.cuda().eval()"
   ]
  },
  {
   "cell_type": "markdown",
   "id": "b1ceea62",
   "metadata": {},
   "source": [
    "# Loading Ground Truth Information"
   ]
  },
  {
   "cell_type": "code",
   "execution_count": 4,
   "id": "b8cdb0b1",
   "metadata": {},
   "outputs": [],
   "source": [
    "gt_dict = {}\n",
    "with open('ground_truth.txt') as fp:\n",
    "    lines = fp.readlines()\n",
    "    for line in lines[2:-1]:\n",
    "        q, r = line.split()\n",
    "        try:\n",
    "            gt_dict[q].append(int(r))\n",
    "        except:\n",
    "            gt_dict[q] = [int(r)]"
   ]
  },
  {
   "cell_type": "markdown",
   "id": "0523f3dc",
   "metadata": {},
   "source": [
    "# Load query images and compute keypoints and features"
   ]
  },
  {
   "cell_type": "code",
   "execution_count": 5,
   "id": "1564d24c",
   "metadata": {},
   "outputs": [
    {
     "name": "stdout",
     "output_type": "stream",
     "text": [
      "(34, 20, 128)\n"
     ]
    }
   ],
   "source": [
    "sift = cv2.xfeatures2d.SIFT_create(nfeatures=20)\n",
    "\n",
    "q_imgs = []\n",
    "for i in range(1, 35):\n",
    "    img = cv2.imread('./query/q{}.JPG'.format(i))\n",
    "    g_img = cv2.cvtColor(img,cv2.COLOR_BGR2GRAY)\n",
    "    keypoints, descriptors_1 = sift.detectAndCompute(g_img, None)\n",
    "    keypoints = cv2.KeyPoint_convert(keypoints)[:20]\n",
    "    patches = getPatches(keypoints, g_img,size=32, num=20)\n",
    "    q_imgs.append(torch.as_tensor(patches))\n",
    "q_imgs = torch.cat(q_imgs, dim=1).permute(1, 0, 2, 3)\n",
    "\n",
    "# Compute features of keypoints\n",
    "q_arr = np.zeros((len(q_imgs), 20, 128))\n",
    "for i, x in enumerate(q_imgs): \n",
    "    out = model(x.unsqueeze(1).cuda())    \n",
    "    q_arr[i] = out.squeeze().cpu().detach().numpy()\n",
    "print(q_arr.shape)"
   ]
  },
  {
   "cell_type": "markdown",
   "id": "4c1b0944",
   "metadata": {},
   "source": [
    "# Load dataset images and compute keypoints and features"
   ]
  },
  {
   "cell_type": "code",
   "execution_count": 6,
   "id": "ea29415a",
   "metadata": {},
   "outputs": [
    {
     "name": "stdout",
     "output_type": "stream",
     "text": [
      "(136, 20, 128)\n"
     ]
    }
   ],
   "source": [
    "r_imgs = []\n",
    "for i in range(1, 137):\n",
    "    img = cv2.imread('./images/{}.JPG'.format(i))\n",
    "    g_img = cv2.cvtColor(img,cv2.COLOR_BGR2GRAY)\n",
    "    keypoints, descriptors_1 = sift.detectAndCompute(g_img, None)\n",
    "    keypoints = cv2.KeyPoint_convert(keypoints)[:20]\n",
    "    patches = getPatches(keypoints, g_img,size=32, num=20)\n",
    "    r_imgs.append(torch.as_tensor(patches))\n",
    "r_imgs = torch.cat(r_imgs, dim=1).permute(1, 0, 2, 3)\n",
    "\n",
    "r_arr = np.zeros((len(r_imgs), 20, 128))\n",
    "for i, x in enumerate(r_imgs): \n",
    "    out = model(x.unsqueeze(1).cuda())    \n",
    "    r_arr[i] = out.squeeze().cpu().detach().numpy()\n",
    "print(r_arr.shape)"
   ]
  },
  {
   "cell_type": "markdown",
   "id": "39c1fe2c",
   "metadata": {},
   "source": [
    "# Many-to-many matching"
   ]
  },
  {
   "cell_type": "code",
   "execution_count": 7,
   "id": "f4a3a1e1",
   "metadata": {},
   "outputs": [],
   "source": [
    "s_img_ = np.zeros((len(q_arr), len(r_arr)))\n",
    "\n",
    "for i, q_f in enumerate(q_arr):\n",
    "    for j, r_f in enumerate(r_arr):\n",
    "        s_kl, s_kl_val = similarity(q_f, r_f)\n",
    "        s_kl = s_kl.flatten()\n",
    "        x_star = s_kl/np.sqrt(np.sum(np.square(s_kl)))\n",
    "        top_30 = np.argsort(x_star)[-30:]\n",
    "        sol = np.zeros((x_star.shape))\n",
    "        sol[top_30] = 1\n",
    "        s_img_[i][j] = np.dot(s_kl, sol)"
   ]
  },
  {
   "cell_type": "markdown",
   "id": "7521dc9b",
   "metadata": {},
   "source": [
    "# Compute Precision and Recall"
   ]
  },
  {
   "cell_type": "code",
   "execution_count": 8,
   "id": "8b1c0dc2",
   "metadata": {},
   "outputs": [],
   "source": [
    "top_1 = []\n",
    "top_2 = []\n",
    "top_3 = []\n",
    "top_4 = []\n",
    "\n",
    "for i in range(len(q_arr)):\n",
    "    for k in range(1, 5):\n",
    "        top_ids = get_top_k(s_img_[i], k)\n",
    "        prec, recall = eval_(i, gt_dict, top_ids)\n",
    "        exec(\"top_%s.append([%f, %f])\" % (k, prec, recall))"
   ]
  },
  {
   "cell_type": "code",
   "execution_count": 9,
   "id": "55fda618",
   "metadata": {},
   "outputs": [],
   "source": [
    "for k in range(1, 5):\n",
    "    exec(\"top_%davg = np.mean(np.array(top_%d), axis=0)\" % (k, k))"
   ]
  },
  {
   "cell_type": "code",
   "execution_count": 10,
   "id": "a15c5c7d",
   "metadata": {},
   "outputs": [
    {
     "data": {
      "image/png": "[encoded data removed]",
      "text/plain": [
       "<Figure size 432x288 with 1 Axes>"
      ]
     },
     "metadata": {
      "needs_background": "light"
     },
     "output_type": "display_data"
    }
   ],
   "source": [
    "plt.figure()\n",
    "for k in range(1, 5):\n",
    "    exec(\"plt.scatter(top_%davg[1], top_%davg[0], label='k=%d')\" % (k, k, k))    \n",
    "plt.legend()\n",
    "plt.title('Many-to-Many: Provided CNN')   \n",
    "plt.show()"
   ]
  },
  {
   "cell_type": "markdown",
   "id": "4ebf81dd",
   "metadata": {},
   "source": [
    "# One-to-One matching"
   ]
  },
  {
   "cell_type": "code",
   "execution_count": 11,
   "id": "2717c022",
   "metadata": {},
   "outputs": [],
   "source": [
    "s_img_ = np.zeros((len(q_arr), len(r_arr)))\n",
    "\n",
    "for i, q_f in enumerate(q_arr):\n",
    "    for j, r_f in enumerate(r_arr):\n",
    "        s_kl, s_kl_val = similarity(q_f, r_f)\n",
    "        res = scipy.optimize.linear_sum_assignment(1 - s_kl)\n",
    "        x = np.zeros((20, 20))\n",
    "        x[res] = 1\n",
    "        cost = np.sum(s_kl*x)\n",
    "        s_img_[i][j] = cost"
   ]
  },
  {
   "cell_type": "markdown",
   "id": "17d53f03",
   "metadata": {},
   "source": [
    "# Compute Precision and Recall"
   ]
  },
  {
   "cell_type": "code",
   "execution_count": 12,
   "id": "b5a3bd87",
   "metadata": {},
   "outputs": [],
   "source": [
    "top_1 = []\n",
    "top_2 = []\n",
    "top_3 = []\n",
    "top_4 = []\n",
    "for i in range(len(q_arr)):\n",
    "    for k in range(1, 5):\n",
    "        top_ids = np.argsort(s_img_[i])[-k:]\n",
    "        prec, recall = eval_(i, gt_dict, top_ids)\n",
    "        exec(\"top_%s.append([%f, %f])\" % (k, prec, recall))"
   ]
  },
  {
   "cell_type": "code",
   "execution_count": 13,
   "id": "02dbc715",
   "metadata": {},
   "outputs": [
    {
     "data": {
      "image/png": "[encoded data removed]",
      "text/plain": [
       "<Figure size 432x288 with 1 Axes>"
      ]
     },
     "metadata": {
      "needs_background": "light"
     },
     "output_type": "display_data"
    }
   ],
   "source": [
    "for k in range(1, 5):\n",
    "    exec(\"top_%davg= np.mean(np.array(top_%d), axis=0)\" % (k, k))\n",
    "\n",
    "plt.figure()\n",
    "for k in range(1, 5):\n",
    "    exec(\"plt.scatter(top_%davg[1], top_%davg[0], label='k=%d')\" % (k, k, k))  \n",
    "    \n",
    "plt.legend()\n",
    "plt.title('One-to-One: Provided CNN')\n",
    "plt.show()"
   ]
  }
 ],
 "metadata": {
  "kernelspec": {
   "display_name": "Python 3",
   "language": "python",
   "name": "python3"
  },
  "language_info": {
   "codemirror_mode": {
    "name": "ipython",
    "version": 3
   },
   "file_extension": ".py",
   "mimetype": "text/x-python",
   "name": "python",
   "nbconvert_exporter": "python",
   "pygments_lexer": "ipython3",
   "version": "3.6.13"
  }
 },
 "nbformat": 4,
 "nbformat_minor": 5
}
